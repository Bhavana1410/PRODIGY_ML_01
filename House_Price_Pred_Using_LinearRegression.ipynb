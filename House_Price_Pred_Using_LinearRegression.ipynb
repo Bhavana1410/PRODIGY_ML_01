{
 "cells": [
  {
   "cell_type": "markdown",
   "id": "humanitarian-letters",
   "metadata": {
    "_cell_guid": "b1076dfc-b9ad-4769-8c92-a6c4dae69d19",
    "_uuid": "8f2839f25d086af736a60e9eeb907d3b93b6e0e5",
    "id": "humanitarian-letters",
    "papermill": {
     "duration": 0.03431,
     "end_time": "2021-06-10T05:37:23.129857",
     "exception": false,
     "start_time": "2021-06-10T05:37:23.095547",
     "status": "completed"
    },
    "tags": []
   },
   "source": [
    "# Linear Regression Model for Predicting House Prices"
   ]
  },
  {
   "cell_type": "code",
   "execution_count": 8,
   "id": "coordinate-danger",
   "metadata": {
    "execution": {
     "iopub.execute_input": "2021-06-10T05:37:23.270658Z",
     "iopub.status.busy": "2021-06-10T05:37:23.269480Z",
     "iopub.status.idle": "2021-06-10T05:37:24.433923Z",
     "shell.execute_reply": "2021-06-10T05:37:24.433202Z",
     "shell.execute_reply.started": "2021-06-10T05:34:40.093577Z"
    },
    "id": "coordinate-danger",
    "papermill": {
     "duration": 1.202203,
     "end_time": "2021-06-10T05:37:24.434120",
     "exception": false,
     "start_time": "2021-06-10T05:37:23.231917",
     "status": "completed"
    },
    "tags": []
   },
   "outputs": [],
   "source": [
    "import numpy as np\n",
    "import pandas as pd\n",
    "from math import sqrt\n",
    "from scipy.stats import skew\n",
    "import matplotlib.pyplot as plt\n",
    "from sklearn import linear_model\n",
    "from sklearn import preprocessing\n",
    "from sklearn.model_selection import train_test_split\n",
    "from sklearn.metrics import mean_absolute_error, mean_squared_error"
   ]
  },
  {
   "cell_type": "code",
   "execution_count": 9,
   "id": "personal-specialist",
   "metadata": {
    "execution": {
     "iopub.execute_input": "2021-06-10T05:37:24.506104Z",
     "iopub.status.busy": "2021-06-10T05:37:24.505433Z",
     "iopub.status.idle": "2021-06-10T05:37:24.508567Z",
     "shell.execute_reply": "2021-06-10T05:37:24.508010Z",
     "shell.execute_reply.started": "2021-06-10T05:34:41.193497Z"
    },
    "id": "personal-specialist",
    "papermill": {
     "duration": 0.041423,
     "end_time": "2021-06-10T05:37:24.508714",
     "exception": false,
     "start_time": "2021-06-10T05:37:24.467291",
     "status": "completed"
    },
    "tags": []
   },
   "outputs": [],
   "source": [
    "plt.style.use(style='fivethirtyeight')\n",
    "plt.rcParams['figure.figsize'] = (10, 6)"
   ]
  },
  {
   "cell_type": "markdown",
   "id": "accredited-external",
   "metadata": {
    "id": "accredited-external",
    "papermill": {
     "duration": 0.032816,
     "end_time": "2021-06-10T05:37:24.574915",
     "exception": false,
     "start_time": "2021-06-10T05:37:24.542099",
     "status": "completed"
    },
    "tags": []
   },
   "source": [
    "# Exploratory Data Analysis"
   ]
  },
  {
   "cell_type": "code",
   "execution_count": 10,
   "id": "logical-airplane",
   "metadata": {
    "execution": {
     "iopub.execute_input": "2021-06-10T05:37:24.715027Z",
     "iopub.status.busy": "2021-06-10T05:37:24.714251Z",
     "iopub.status.idle": "2021-06-10T05:37:24.790005Z",
     "shell.execute_reply": "2021-06-10T05:37:24.789364Z",
     "shell.execute_reply.started": "2021-06-10T05:34:41.200353Z"
    },
    "id": "logical-airplane",
    "papermill": {
     "duration": 0.114238,
     "end_time": "2021-06-10T05:37:24.790184",
     "exception": false,
     "start_time": "2021-06-10T05:37:24.675946",
     "status": "completed"
    },
    "tags": []
   },
   "outputs": [],
   "source": [
    "# load the datasets into dataframe\n",
    "train = pd.read_csv('train.csv')\n",
    "test = pd.read_csv('test.csv')"
   ]
  },
  {
   "cell_type": "code",
   "execution_count": 11,
   "id": "excess-action",
   "metadata": {
    "colab": {
     "base_uri": "https://localhost:8080/",
     "height": 256
    },
    "execution": {
     "iopub.execute_input": "2021-06-10T05:37:24.862653Z",
     "iopub.status.busy": "2021-06-10T05:37:24.861616Z",
     "iopub.status.idle": "2021-06-10T05:37:24.910264Z",
     "shell.execute_reply": "2021-06-10T05:37:24.910943Z",
     "shell.execute_reply.started": "2021-06-10T05:34:41.444752Z"
    },
    "id": "excess-action",
    "outputId": "d6d0355f-cbf7-498d-bd09-b5973256e72c",
    "papermill": {
     "duration": 0.087109,
     "end_time": "2021-06-10T05:37:24.911145",
     "exception": false,
     "start_time": "2021-06-10T05:37:24.824036",
     "status": "completed"
    },
    "tags": []
   },
   "outputs": [
    {
     "data": {
      "text/html": [
       "<div>\n",
       "<style scoped>\n",
       "    .dataframe tbody tr th:only-of-type {\n",
       "        vertical-align: middle;\n",
       "    }\n",
       "\n",
       "    .dataframe tbody tr th {\n",
       "        vertical-align: top;\n",
       "    }\n",
       "\n",
       "    .dataframe thead th {\n",
       "        text-align: right;\n",
       "    }\n",
       "</style>\n",
       "<table border=\"1\" class=\"dataframe\">\n",
       "  <thead>\n",
       "    <tr style=\"text-align: right;\">\n",
       "      <th></th>\n",
       "      <th>Id</th>\n",
       "      <th>MSSubClass</th>\n",
       "      <th>MSZoning</th>\n",
       "      <th>LotFrontage</th>\n",
       "      <th>LotArea</th>\n",
       "      <th>Street</th>\n",
       "      <th>Alley</th>\n",
       "      <th>LotShape</th>\n",
       "      <th>LandContour</th>\n",
       "      <th>Utilities</th>\n",
       "      <th>...</th>\n",
       "      <th>PoolArea</th>\n",
       "      <th>PoolQC</th>\n",
       "      <th>Fence</th>\n",
       "      <th>MiscFeature</th>\n",
       "      <th>MiscVal</th>\n",
       "      <th>MoSold</th>\n",
       "      <th>YrSold</th>\n",
       "      <th>SaleType</th>\n",
       "      <th>SaleCondition</th>\n",
       "      <th>SalePrice</th>\n",
       "    </tr>\n",
       "  </thead>\n",
       "  <tbody>\n",
       "    <tr>\n",
       "      <th>0</th>\n",
       "      <td>1</td>\n",
       "      <td>60</td>\n",
       "      <td>RL</td>\n",
       "      <td>65.0</td>\n",
       "      <td>8450</td>\n",
       "      <td>Pave</td>\n",
       "      <td>NaN</td>\n",
       "      <td>Reg</td>\n",
       "      <td>Lvl</td>\n",
       "      <td>AllPub</td>\n",
       "      <td>...</td>\n",
       "      <td>0</td>\n",
       "      <td>NaN</td>\n",
       "      <td>NaN</td>\n",
       "      <td>NaN</td>\n",
       "      <td>0</td>\n",
       "      <td>2</td>\n",
       "      <td>2008</td>\n",
       "      <td>WD</td>\n",
       "      <td>Normal</td>\n",
       "      <td>208500</td>\n",
       "    </tr>\n",
       "    <tr>\n",
       "      <th>1</th>\n",
       "      <td>2</td>\n",
       "      <td>20</td>\n",
       "      <td>RL</td>\n",
       "      <td>80.0</td>\n",
       "      <td>9600</td>\n",
       "      <td>Pave</td>\n",
       "      <td>NaN</td>\n",
       "      <td>Reg</td>\n",
       "      <td>Lvl</td>\n",
       "      <td>AllPub</td>\n",
       "      <td>...</td>\n",
       "      <td>0</td>\n",
       "      <td>NaN</td>\n",
       "      <td>NaN</td>\n",
       "      <td>NaN</td>\n",
       "      <td>0</td>\n",
       "      <td>5</td>\n",
       "      <td>2007</td>\n",
       "      <td>WD</td>\n",
       "      <td>Normal</td>\n",
       "      <td>181500</td>\n",
       "    </tr>\n",
       "    <tr>\n",
       "      <th>2</th>\n",
       "      <td>3</td>\n",
       "      <td>60</td>\n",
       "      <td>RL</td>\n",
       "      <td>68.0</td>\n",
       "      <td>11250</td>\n",
       "      <td>Pave</td>\n",
       "      <td>NaN</td>\n",
       "      <td>IR1</td>\n",
       "      <td>Lvl</td>\n",
       "      <td>AllPub</td>\n",
       "      <td>...</td>\n",
       "      <td>0</td>\n",
       "      <td>NaN</td>\n",
       "      <td>NaN</td>\n",
       "      <td>NaN</td>\n",
       "      <td>0</td>\n",
       "      <td>9</td>\n",
       "      <td>2008</td>\n",
       "      <td>WD</td>\n",
       "      <td>Normal</td>\n",
       "      <td>223500</td>\n",
       "    </tr>\n",
       "    <tr>\n",
       "      <th>3</th>\n",
       "      <td>4</td>\n",
       "      <td>70</td>\n",
       "      <td>RL</td>\n",
       "      <td>60.0</td>\n",
       "      <td>9550</td>\n",
       "      <td>Pave</td>\n",
       "      <td>NaN</td>\n",
       "      <td>IR1</td>\n",
       "      <td>Lvl</td>\n",
       "      <td>AllPub</td>\n",
       "      <td>...</td>\n",
       "      <td>0</td>\n",
       "      <td>NaN</td>\n",
       "      <td>NaN</td>\n",
       "      <td>NaN</td>\n",
       "      <td>0</td>\n",
       "      <td>2</td>\n",
       "      <td>2006</td>\n",
       "      <td>WD</td>\n",
       "      <td>Abnorml</td>\n",
       "      <td>140000</td>\n",
       "    </tr>\n",
       "    <tr>\n",
       "      <th>4</th>\n",
       "      <td>5</td>\n",
       "      <td>60</td>\n",
       "      <td>RL</td>\n",
       "      <td>84.0</td>\n",
       "      <td>14260</td>\n",
       "      <td>Pave</td>\n",
       "      <td>NaN</td>\n",
       "      <td>IR1</td>\n",
       "      <td>Lvl</td>\n",
       "      <td>AllPub</td>\n",
       "      <td>...</td>\n",
       "      <td>0</td>\n",
       "      <td>NaN</td>\n",
       "      <td>NaN</td>\n",
       "      <td>NaN</td>\n",
       "      <td>0</td>\n",
       "      <td>12</td>\n",
       "      <td>2008</td>\n",
       "      <td>WD</td>\n",
       "      <td>Normal</td>\n",
       "      <td>250000</td>\n",
       "    </tr>\n",
       "  </tbody>\n",
       "</table>\n",
       "<p>5 rows × 81 columns</p>\n",
       "</div>"
      ],
      "text/plain": [
       "   Id  MSSubClass MSZoning  LotFrontage  LotArea Street Alley LotShape  \\\n",
       "0   1          60       RL         65.0     8450   Pave   NaN      Reg   \n",
       "1   2          20       RL         80.0     9600   Pave   NaN      Reg   \n",
       "2   3          60       RL         68.0    11250   Pave   NaN      IR1   \n",
       "3   4          70       RL         60.0     9550   Pave   NaN      IR1   \n",
       "4   5          60       RL         84.0    14260   Pave   NaN      IR1   \n",
       "\n",
       "  LandContour Utilities  ... PoolArea PoolQC Fence MiscFeature MiscVal MoSold  \\\n",
       "0         Lvl    AllPub  ...        0    NaN   NaN         NaN       0      2   \n",
       "1         Lvl    AllPub  ...        0    NaN   NaN         NaN       0      5   \n",
       "2         Lvl    AllPub  ...        0    NaN   NaN         NaN       0      9   \n",
       "3         Lvl    AllPub  ...        0    NaN   NaN         NaN       0      2   \n",
       "4         Lvl    AllPub  ...        0    NaN   NaN         NaN       0     12   \n",
       "\n",
       "  YrSold  SaleType  SaleCondition  SalePrice  \n",
       "0   2008        WD         Normal     208500  \n",
       "1   2007        WD         Normal     181500  \n",
       "2   2008        WD         Normal     223500  \n",
       "3   2006        WD        Abnorml     140000  \n",
       "4   2008        WD         Normal     250000  \n",
       "\n",
       "[5 rows x 81 columns]"
      ]
     },
     "execution_count": 11,
     "metadata": {},
     "output_type": "execute_result"
    }
   ],
   "source": [
    "# show the first few records of train set\n",
    "train.head()"
   ]
  },
  {
   "cell_type": "code",
   "execution_count": 12,
   "id": "dedicated-tulsa",
   "metadata": {
    "colab": {
     "base_uri": "https://localhost:8080/"
    },
    "execution": {
     "iopub.execute_input": "2021-06-10T05:37:24.985271Z",
     "iopub.status.busy": "2021-06-10T05:37:24.984254Z",
     "iopub.status.idle": "2021-06-10T05:37:24.995363Z",
     "shell.execute_reply": "2021-06-10T05:37:24.994380Z",
     "shell.execute_reply.started": "2021-06-10T05:34:41.969089Z"
    },
    "id": "dedicated-tulsa",
    "outputId": "dc951a2c-b85c-4ebf-fc4b-fc807301cd79",
    "papermill": {
     "duration": 0.049388,
     "end_time": "2021-06-10T05:37:24.995606",
     "exception": false,
     "start_time": "2021-06-10T05:37:24.946218",
     "status": "completed"
    },
    "tags": []
   },
   "outputs": [
    {
     "name": "stdout",
     "output_type": "stream",
     "text": [
      "Records in train dataset:  1460\n",
      "Columns in train dataset:  81\n",
      "Records in test dataset:  1459\n",
      "Columns in test dataset:  80\n"
     ]
    }
   ],
   "source": [
    "# check the number of records and columns in both of datasets\n",
    "print('Records in train dataset: ', len(train.index))\n",
    "print('Columns in train dataset: ', len(train.columns))\n",
    "print('Records in test dataset: ', len(test.index))\n",
    "print('Columns in test dataset: ', len(test.columns))"
   ]
  },
  {
   "cell_type": "code",
   "execution_count": 13,
   "id": "auburn-fiber",
   "metadata": {
    "colab": {
     "base_uri": "https://localhost:8080/"
    },
    "execution": {
     "iopub.execute_input": "2021-06-10T05:37:25.168550Z",
     "iopub.status.busy": "2021-06-10T05:37:25.167769Z",
     "iopub.status.idle": "2021-06-10T05:37:25.190548Z",
     "shell.execute_reply": "2021-06-10T05:37:25.191566Z",
     "shell.execute_reply.started": "2021-06-10T05:34:42.317774Z"
    },
    "id": "auburn-fiber",
    "outputId": "4fbd4be8-69cb-49ec-a5b3-e0d6354653f0",
    "papermill": {
     "duration": 0.062743,
     "end_time": "2021-06-10T05:37:25.191859",
     "exception": false,
     "start_time": "2021-06-10T05:37:25.129116",
     "status": "completed"
    },
    "tags": []
   },
   "outputs": [
    {
     "name": "stdout",
     "output_type": "stream",
     "text": [
      "Total missing values in train set 6965\n",
      "Total missing values in test set 7000\n"
     ]
    }
   ],
   "source": [
    "# check the missing values\n",
    "print ('Total missing values in train set', sum(train.isna().sum()))\n",
    "print ('Total missing values in test set', sum(test.isna().sum()))"
   ]
  },
  {
   "cell_type": "code",
   "execution_count": 14,
   "id": "apparent-affect",
   "metadata": {
    "colab": {
     "base_uri": "https://localhost:8080/"
    },
    "execution": {
     "iopub.execute_input": "2021-06-10T05:37:25.272548Z",
     "iopub.status.busy": "2021-06-10T05:37:25.271744Z",
     "iopub.status.idle": "2021-06-10T05:37:25.280094Z",
     "shell.execute_reply": "2021-06-10T05:37:25.280597Z",
     "shell.execute_reply.started": "2021-06-10T05:34:42.915733Z"
    },
    "id": "apparent-affect",
    "outputId": "812b7fea-464c-4ce8-92ea-e4e47f1abe5a",
    "papermill": {
     "duration": 0.052269,
     "end_time": "2021-06-10T05:37:25.280780",
     "exception": false,
     "start_time": "2021-06-10T05:37:25.228511",
     "status": "completed"
    },
    "tags": []
   },
   "outputs": [
    {
     "data": {
      "text/plain": [
       "count      1460.000000\n",
       "mean     180921.195890\n",
       "std       79442.502883\n",
       "min       34900.000000\n",
       "25%      129975.000000\n",
       "50%      163000.000000\n",
       "75%      214000.000000\n",
       "max      755000.000000\n",
       "Name: SalePrice, dtype: float64"
      ]
     },
     "execution_count": 14,
     "metadata": {},
     "output_type": "execute_result"
    }
   ],
   "source": [
    "train['SalePrice'].describe()"
   ]
  },
  {
   "cell_type": "code",
   "execution_count": 16,
   "id": "governing-physiology",
   "metadata": {
    "colab": {
     "base_uri": "https://localhost:8080/"
    },
    "execution": {
     "iopub.execute_input": "2021-06-10T05:37:25.425414Z",
     "iopub.status.busy": "2021-06-10T05:37:25.424433Z",
     "iopub.status.idle": "2021-06-10T05:37:25.450395Z",
     "shell.execute_reply": "2021-06-10T05:37:25.449448Z",
     "shell.execute_reply.started": "2021-06-10T05:34:43.383363Z"
    },
    "id": "governing-physiology",
    "outputId": "900ced8e-5025-4033-868b-8eea642d991d",
    "papermill": {
     "duration": 0.064016,
     "end_time": "2021-06-10T05:37:25.450588",
     "exception": false,
     "start_time": "2021-06-10T05:37:25.386572",
     "status": "completed"
    },
    "tags": []
   },
   "outputs": [
    {
     "name": "stdout",
     "output_type": "stream",
     "text": [
      "Top Features Most Correlated with SalePrice:\n",
      "SalePrice       1.000000\n",
      "OverallQual     0.790982\n",
      "GrLivArea       0.708624\n",
      "GarageCars      0.640409\n",
      "GarageArea      0.623431\n",
      "TotalBsmtSF     0.613581\n",
      "1stFlrSF        0.605852\n",
      "FullBath        0.560664\n",
      "TotRmsAbvGrd    0.533723\n",
      "YearBuilt       0.522897\n",
      "Name: SalePrice, dtype: float64 \n",
      "\n",
      "Top Features Least Correlated with SalePrice:\n",
      "YrSold          -0.028923\n",
      "OverallCond     -0.077856\n",
      "MSSubClass      -0.084284\n",
      "EnclosedPorch   -0.128578\n",
      "KitchenAbvGr    -0.135907\n",
      "Name: SalePrice, dtype: float64\n"
     ]
    }
   ],
   "source": [
    "# Select columns with numerical data types\n",
    "numeric_columns = train.select_dtypes(include=[np.number])\n",
    "\n",
    "# Calculate the correlation matrix for these numerical columns\n",
    "correlation_matrix = numeric_columns.corr()\n",
    "\n",
    "# Display the features most correlated with SalePrice\n",
    "print('Top Features Most Correlated with SalePrice:')\n",
    "print(correlation_matrix['SalePrice'].sort_values(ascending=False).head(10), '\\n')\n",
    "\n",
    "# Display the features least correlated with SalePrice\n",
    "print('Top Features Least Correlated with SalePrice:')\n",
    "print(correlation_matrix['SalePrice'].sort_values(ascending=False).tail(5))"
   ]
  },
  {
   "cell_type": "code",
   "execution_count": 17,
   "id": "actual-sending",
   "metadata": {
    "colab": {
     "base_uri": "https://localhost:8080/",
     "height": 529
    },
    "execution": {
     "iopub.execute_input": "2021-06-10T05:37:25.598395Z",
     "iopub.status.busy": "2021-06-10T05:37:25.597576Z",
     "iopub.status.idle": "2021-06-10T05:37:25.825506Z",
     "shell.execute_reply": "2021-06-10T05:37:25.826024Z",
     "shell.execute_reply.started": "2021-06-10T05:34:44.042752Z"
    },
    "id": "actual-sending",
    "outputId": "13540228-e884-4d2f-977c-3d37015454ca",
    "papermill": {
     "duration": 0.269202,
     "end_time": "2021-06-10T05:37:25.826242",
     "exception": false,
     "start_time": "2021-06-10T05:37:25.557040",
     "status": "completed"
    },
    "tags": []
   },
   "outputs": [
    {
     "data": {
      "text/plain": [
       "Text(0.5, 0, 'GrLivArea (Above ground living area in square feet)')"
      ]
     },
     "execution_count": 17,
     "metadata": {},
     "output_type": "execute_result"
    },
    {
     "data": {
      "image/png": "[encoded data removed]",
      "text/plain": [
       "<Figure size 720x432 with 1 Axes>"
      ]
     },
     "metadata": {},
     "output_type": "display_data"
    }
   ],
   "source": [
    "# Create a scatter plot of GrLivArea vs. SalePrice\n",
    "plt.scatter(x=train['GrLivArea'], y=train['SalePrice'])\n",
    "plt.ylabel('SalePrice')\n",
    "plt.xlabel('GrLivArea (Above ground living area in square feet)')"
   ]
  },
  {
   "cell_type": "code",
   "execution_count": 18,
   "id": "elementary-boxing",
   "metadata": {
    "colab": {
     "base_uri": "https://localhost:8080/",
     "height": 529
    },
    "execution": {
     "iopub.execute_input": "2021-06-10T05:37:25.983012Z",
     "iopub.status.busy": "2021-06-10T05:37:25.982377Z",
     "iopub.status.idle": "2021-06-10T05:37:26.171732Z",
     "shell.execute_reply": "2021-06-10T05:37:26.172277Z",
     "shell.execute_reply.started": "2021-06-10T05:34:44.673869Z"
    },
    "id": "elementary-boxing",
    "outputId": "40f2fdc5-2a72-4c4e-c293-287b8dde2169",
    "papermill": {
     "duration": 0.231077,
     "end_time": "2021-06-10T05:37:26.172468",
     "exception": false,
     "start_time": "2021-06-10T05:37:25.941391",
     "status": "completed"
    },
    "tags": []
   },
   "outputs": [
    {
     "data": {
      "text/plain": [
       "Text(0.5, 0, 'GarageArea')"
      ]
     },
     "execution_count": 18,
     "metadata": {},
     "output_type": "execute_result"
    },
    {
     "data": {
      "image/png": "[encoded data removed]",
      "text/plain": [
       "<Figure size 720x432 with 1 Axes>"
      ]
     },
     "metadata": {},
     "output_type": "display_data"
    }
   ],
   "source": [
    "plt.scatter(x = train['GarageArea'], y = train['SalePrice'])\n",
    "plt.ylabel('SalePrice')\n",
    "plt.xlabel('GarageArea')"
   ]
  },
  {
   "cell_type": "markdown",
   "id": "paperback-baking",
   "metadata": {
    "id": "paperback-baking",
    "papermill": {
     "duration": 0.03918,
     "end_time": "2021-06-10T05:37:26.330324",
     "exception": false,
     "start_time": "2021-06-10T05:37:26.291144",
     "status": "completed"
    },
    "tags": []
   },
   "source": [
    "# Data Preprocessing"
   ]
  },
  {
   "cell_type": "code",
   "execution_count": 19,
   "id": "vietnamese-eligibility",
   "metadata": {
    "execution": {
     "iopub.execute_input": "2021-06-10T05:37:26.493871Z",
     "iopub.status.busy": "2021-06-10T05:37:26.492873Z",
     "iopub.status.idle": "2021-06-10T05:37:26.518547Z",
     "shell.execute_reply": "2021-06-10T05:37:26.519010Z",
     "shell.execute_reply.started": "2021-06-10T05:34:46.010045Z"
    },
    "id": "vietnamese-eligibility",
    "papermill": {
     "duration": 0.069255,
     "end_time": "2021-06-10T05:37:26.519232",
     "exception": false,
     "start_time": "2021-06-10T05:37:26.449977",
     "status": "completed"
    },
    "tags": []
   },
   "outputs": [],
   "source": [
    "# remove GrLivArea outliers\n",
    "train = train[train['GrLivArea'] < 4500]"
   ]
  },
  {
   "cell_type": "code",
   "execution_count": 20,
   "id": "several-brain",
   "metadata": {
    "execution": {
     "iopub.execute_input": "2021-06-10T05:37:26.605394Z",
     "iopub.status.busy": "2021-06-10T05:37:26.604736Z",
     "iopub.status.idle": "2021-06-10T05:37:26.607732Z",
     "shell.execute_reply": "2021-06-10T05:37:26.608293Z",
     "shell.execute_reply.started": "2021-06-10T05:34:46.395490Z"
    },
    "id": "several-brain",
    "papermill": {
     "duration": 0.04948,
     "end_time": "2021-06-10T05:37:26.608479",
     "exception": false,
     "start_time": "2021-06-10T05:37:26.558999",
     "status": "completed"
    },
    "tags": []
   },
   "outputs": [],
   "source": [
    "# remove GarageArea outliers\n",
    "train = train[train['GarageArea'] < 1200]"
   ]
  },
  {
   "cell_type": "code",
   "execution_count": 21,
   "id": "split-radar",
   "metadata": {
    "colab": {
     "base_uri": "https://localhost:8080/"
    },
    "execution": {
     "iopub.execute_input": "2021-06-10T05:37:26.690803Z",
     "iopub.status.busy": "2021-06-10T05:37:26.690107Z",
     "iopub.status.idle": "2021-06-10T05:37:26.708500Z",
     "shell.execute_reply": "2021-06-10T05:37:26.707847Z",
     "shell.execute_reply.started": "2021-06-10T05:34:46.795209Z"
    },
    "id": "split-radar",
    "outputId": "95e6183b-8ffa-40fe-9085-b3ad45ead73c",
    "papermill": {
     "duration": 0.060683,
     "end_time": "2021-06-10T05:37:26.708654",
     "exception": false,
     "start_time": "2021-06-10T05:37:26.647971",
     "status": "completed"
    },
    "tags": []
   },
   "outputs": [
    {
     "name": "stdout",
     "output_type": "stream",
     "text": [
      "Alley          0.937414\n",
      "PoolQC         0.995873\n",
      "Fence          0.806740\n",
      "MiscFeature    0.963549\n",
      "dtype: float64\n"
     ]
    }
   ],
   "source": [
    "# Calculate the percentage of missing values for each column\n",
    "missing_percentage = train.isnull().sum() / train.shape[0]\n",
    "\n",
    "# Display columns with more than 80% missing values\n",
    "print(missing_percentage[missing_percentage > 0.80])\n",
    "\n",
    "# Drop columns that have more than 80% missing values\n",
    "train = train.drop(columns=missing_percentage[missing_percentage > 0.80].index)"
   ]
  },
  {
   "cell_type": "code",
   "execution_count": 24,
   "id": "marked-initial",
   "metadata": {
    "colab": {
     "base_uri": "https://localhost:8080/"
    },
    "execution": {
     "iopub.execute_input": "2021-06-10T05:37:26.793367Z",
     "iopub.status.busy": "2021-06-10T05:37:26.792647Z",
     "iopub.status.idle": "2021-06-10T05:37:26.809304Z",
     "shell.execute_reply": "2021-06-10T05:37:26.809785Z",
     "shell.execute_reply.started": "2021-06-10T05:34:47.530043Z"
    },
    "id": "marked-initial",
    "outputId": "73c42a77-9ef4-4aa1-b397-3ba083fc8e4e",
    "papermill": {
     "duration": 0.060812,
     "end_time": "2021-06-10T05:37:26.809977",
     "exception": false,
     "start_time": "2021-06-10T05:37:26.749165",
     "status": "completed"
    },
    "tags": []
   },
   "outputs": [
    {
     "name": "stdout",
     "output_type": "stream",
     "text": [
      "Series([], dtype: float64)\n"
     ]
    }
   ],
   "source": [
    "# Calculate the percentage of missing values for each column in the test dataset\n",
    "test_missing_percentage = test.isnull().sum() / test.shape[0]\n",
    "\n",
    "# Print columns with more than 80% missing values in the test dataset\n",
    "print(test_missing_percentage[test_missing_percentage > 0.80])\n",
    "\n",
    "# Remove columns that have more than 80% missing values from the test dataset\n",
    "test = test.drop(columns=test_missing_percentage[test_missing_percentage > 0.80].index)"
   ]
  },
  {
   "cell_type": "code",
   "execution_count": 25,
   "id": "behind-biotechnology",
   "metadata": {
    "execution": {
     "iopub.execute_input": "2021-06-10T05:37:26.895496Z",
     "iopub.status.busy": "2021-06-10T05:37:26.894787Z",
     "iopub.status.idle": "2021-06-10T05:37:26.952412Z",
     "shell.execute_reply": "2021-06-10T05:37:26.952887Z",
     "shell.execute_reply.started": "2021-06-10T05:34:51.839287Z"
    },
    "id": "behind-biotechnology",
    "papermill": {
     "duration": 0.10283,
     "end_time": "2021-06-10T05:37:26.953100",
     "exception": false,
     "start_time": "2021-06-10T05:37:26.850270",
     "status": "completed"
    },
    "tags": []
   },
   "outputs": [],
   "source": [
    "# Encode categorical variables using label encoding\n",
    "le = preprocessing.LabelEncoder()\n",
    "for column in train.columns:\n",
    "    if train[column].dtype == 'O':\n",
    "        train[column] = train[column].astype(str)\n",
    "        le.fit(train[column])\n",
    "        train[column] = le.transform(train[column])"
   ]
  },
  {
   "cell_type": "code",
   "execution_count": 26,
   "id": "popular-leather",
   "metadata": {
    "execution": {
     "iopub.execute_input": "2021-06-10T05:37:27.036577Z",
     "iopub.status.busy": "2021-06-10T05:37:27.035894Z",
     "iopub.status.idle": "2021-06-10T05:37:27.093785Z",
     "shell.execute_reply": "2021-06-10T05:37:27.093168Z",
     "shell.execute_reply.started": "2021-06-10T05:34:52.443482Z"
    },
    "id": "popular-leather",
    "papermill": {
     "duration": 0.100651,
     "end_time": "2021-06-10T05:37:27.093932",
     "exception": false,
     "start_time": "2021-06-10T05:37:26.993281",
     "status": "completed"
    },
    "tags": []
   },
   "outputs": [],
   "source": [
    "# Encode categorical variables in the test dataset using label encoding\n",
    "for column in test.columns:\n",
    "    if test[column].dtype == 'O':\n",
    "        test[column] = test[column].astype(str)\n",
    "        le.fit(test[column])\n",
    "        test[column] = le.transform(test[column])"
   ]
  },
  {
   "cell_type": "code",
   "execution_count": 27,
   "id": "intended-burner",
   "metadata": {
    "execution": {
     "iopub.execute_input": "2021-06-10T05:37:27.266569Z",
     "iopub.status.busy": "2021-06-10T05:37:27.265327Z",
     "iopub.status.idle": "2021-06-10T05:37:27.942629Z",
     "shell.execute_reply": "2021-06-10T05:37:27.943372Z",
     "shell.execute_reply.started": "2021-06-10T05:34:56.386525Z"
    },
    "id": "intended-burner",
    "papermill": {
     "duration": 0.727106,
     "end_time": "2021-06-10T05:37:27.943605",
     "exception": false,
     "start_time": "2021-06-10T05:37:27.216499",
     "status": "completed"
    },
    "tags": []
   },
   "outputs": [],
   "source": [
    "# Fill missing values in the training dataset based on probability of occurrence\n",
    "for column in train.columns:\n",
    "    missing_values = train.isnull().values\n",
    "    unique_values, counts = np.unique(train.values[~missing_values], return_counts=True)\n",
    "    probabilities = counts / counts.sum()\n",
    "    train.loc[train[column].isna(), column] = np.random.choice(unique_values, train[column].isnull().sum(), p=probabilities)"
   ]
  },
  {
   "cell_type": "code",
   "execution_count": 28,
   "id": "comparative-mistake",
   "metadata": {
    "execution": {
     "iopub.execute_input": "2021-06-10T05:37:28.028988Z",
     "iopub.status.busy": "2021-06-10T05:37:28.027961Z",
     "iopub.status.idle": "2021-06-10T05:37:28.086610Z",
     "shell.execute_reply": "2021-06-10T05:37:28.086002Z",
     "shell.execute_reply.started": "2021-06-10T05:34:57.231726Z"
    },
    "id": "comparative-mistake",
    "papermill": {
     "duration": 0.102976,
     "end_time": "2021-06-10T05:37:28.086755",
     "exception": false,
     "start_time": "2021-06-10T05:37:27.983779",
     "status": "completed"
    },
    "tags": []
   },
   "outputs": [],
   "source": [
    "# Apply log transformation to features with skewness greater than 0.75\n",
    "skewed_features = train.apply(lambda x: skew(x.dropna()))\n",
    "highly_skewed = skewed_features[skewed_features > 0.75]\n",
    "train[highly_skewed.index] = np.log1p(train[highly_skewed.index])"
   ]
  },
  {
   "cell_type": "code",
   "execution_count": 32,
   "id": "reflected-discount",
   "metadata": {
    "execution": {
     "iopub.execute_input": "2021-06-10T05:37:28.175635Z",
     "iopub.status.busy": "2021-06-10T05:37:28.174929Z",
     "iopub.status.idle": "2021-06-10T05:37:28.227059Z",
     "shell.execute_reply": "2021-06-10T05:37:28.227614Z",
     "shell.execute_reply.started": "2021-06-10T05:34:57.779491Z"
    },
    "id": "reflected-discount",
    "papermill": {
     "duration": 0.10091,
     "end_time": "2021-06-10T05:37:28.227796",
     "exception": false,
     "start_time": "2021-06-10T05:37:28.126886",
     "status": "completed"
    },
    "tags": []
   },
   "outputs": [],
   "source": [
    "# deal with the skewness in the test data\n",
    "skewed_test = test.apply(lambda x: skew(x.dropna()))\n",
    "skewed_test = skewed_test[skewed_test > .75]\n",
    "test[skewed_test.index] = np.log1p(test[skewed_test.index])"
   ]
  },
  {
   "cell_type": "markdown",
   "id": "angry-edwards",
   "metadata": {
    "id": "angry-edwards",
    "papermill": {
     "duration": 0.039858,
     "end_time": "2021-06-10T05:37:28.307804",
     "exception": false,
     "start_time": "2021-06-10T05:37:28.267946",
     "status": "completed"
    },
    "tags": []
   },
   "source": [
    "# Modelling"
   ]
  },
  {
   "cell_type": "code",
   "execution_count": 33,
   "id": "incorporated-retreat",
   "metadata": {
    "execution": {
     "iopub.execute_input": "2021-06-10T05:37:28.473771Z",
     "iopub.status.busy": "2021-06-10T05:37:28.473071Z",
     "iopub.status.idle": "2021-06-10T05:37:28.482005Z",
     "shell.execute_reply": "2021-06-10T05:37:28.482563Z",
     "shell.execute_reply.started": "2021-06-10T05:34:59.473221Z"
    },
    "id": "incorporated-retreat",
    "papermill": {
     "duration": 0.053118,
     "end_time": "2021-06-10T05:37:28.482751",
     "exception": false,
     "start_time": "2021-06-10T05:37:28.429633",
     "status": "completed"
    },
    "tags": []
   },
   "outputs": [],
   "source": [
    "X = train.drop(['SalePrice', 'Id'], axis = 1)\n",
    "y = train['SalePrice']\n",
    "X_train, X_test, y_train, y_test = train_test_split(X, y, test_size = 0.2, random_state = 42)"
   ]
  },
  {
   "cell_type": "code",
   "execution_count": 34,
   "id": "regulation-manner",
   "metadata": {
    "execution": {
     "iopub.execute_input": "2021-06-10T05:37:28.648278Z",
     "iopub.status.busy": "2021-06-10T05:37:28.647131Z",
     "iopub.status.idle": "2021-06-10T05:37:28.651024Z",
     "shell.execute_reply": "2021-06-10T05:37:28.651568Z",
     "shell.execute_reply.started": "2021-06-10T05:35:00.031694Z"
    },
    "id": "regulation-manner",
    "papermill": {
     "duration": 0.047469,
     "end_time": "2021-06-10T05:37:28.651750",
     "exception": false,
     "start_time": "2021-06-10T05:37:28.604281",
     "status": "completed"
    },
    "tags": []
   },
   "outputs": [],
   "source": [
    "lr = linear_model.LinearRegression()"
   ]
  },
  {
   "cell_type": "code",
   "execution_count": 35,
   "id": "transsexual-editing",
   "metadata": {
    "execution": {
     "iopub.execute_input": "2021-06-10T05:37:28.817107Z",
     "iopub.status.busy": "2021-06-10T05:37:28.816449Z",
     "iopub.status.idle": "2021-06-10T05:37:28.855435Z",
     "shell.execute_reply": "2021-06-10T05:37:28.856369Z",
     "shell.execute_reply.started": "2021-06-10T05:35:00.869061Z"
    },
    "id": "transsexual-editing",
    "papermill": {
     "duration": 0.082859,
     "end_time": "2021-06-10T05:37:28.856650",
     "exception": false,
     "start_time": "2021-06-10T05:37:28.773791",
     "status": "completed"
    },
    "tags": []
   },
   "outputs": [],
   "source": [
    "model = lr.fit(X_train, y_train)"
   ]
  },
  {
   "cell_type": "code",
   "execution_count": 36,
   "id": "hybrid-savage",
   "metadata": {
    "execution": {
     "iopub.execute_input": "2021-06-10T05:37:29.078652Z",
     "iopub.status.busy": "2021-06-10T05:37:29.077566Z",
     "iopub.status.idle": "2021-06-10T05:37:29.082273Z",
     "shell.execute_reply": "2021-06-10T05:37:29.083306Z",
     "shell.execute_reply.started": "2021-06-10T05:35:02.612740Z"
    },
    "id": "hybrid-savage",
    "papermill": {
     "duration": 0.0547,
     "end_time": "2021-06-10T05:37:29.083585",
     "exception": false,
     "start_time": "2021-06-10T05:37:29.028885",
     "status": "completed"
    },
    "tags": []
   },
   "outputs": [],
   "source": [
    "# make predictions based on model\n",
    "predictions = model.predict(X_test)"
   ]
  },
  {
   "cell_type": "code",
   "execution_count": 37,
   "id": "offensive-syndication",
   "metadata": {
    "colab": {
     "base_uri": "https://localhost:8080/"
    },
    "execution": {
     "iopub.execute_input": "2021-06-10T05:37:29.302597Z",
     "iopub.status.busy": "2021-06-10T05:37:29.301453Z",
     "iopub.status.idle": "2021-06-10T05:37:29.304931Z",
     "shell.execute_reply": "2021-06-10T05:37:29.305437Z",
     "shell.execute_reply.started": "2021-06-10T05:35:04.355835Z"
    },
    "id": "offensive-syndication",
    "outputId": "f1dc3d15-fc32-483b-bb41-89ecae59dfd3",
    "papermill": {
     "duration": 0.051749,
     "end_time": "2021-06-10T05:37:29.305616",
     "exception": false,
     "start_time": "2021-06-10T05:37:29.253867",
     "status": "completed"
    },
    "tags": []
   },
   "outputs": [
    {
     "name": "stdout",
     "output_type": "stream",
     "text": [
      "MAE is: 0.08676909179298682\n",
      "MSE is: 0.016913749146517196\n",
      "RMSE is: 0.13005287058161075\n"
     ]
    }
   ],
   "source": [
    "print ('MAE is:', mean_absolute_error(y_test, predictions))\n",
    "print ('MSE is:', mean_squared_error(y_test, predictions))\n",
    "print ('RMSE is:', sqrt(mean_squared_error(y_test, predictions)))"
   ]
  },
  {
   "cell_type": "code",
   "execution_count": 38,
   "id": "exclusive-rating",
   "metadata": {
    "colab": {
     "base_uri": "https://localhost:8080/",
     "height": 572
    },
    "execution": {
     "iopub.execute_input": "2021-06-10T05:37:29.391956Z",
     "iopub.status.busy": "2021-06-10T05:37:29.390895Z",
     "iopub.status.idle": "2021-06-10T05:37:29.570243Z",
     "shell.execute_reply": "2021-06-10T05:37:29.571004Z",
     "shell.execute_reply.started": "2021-06-10T05:35:05.996134Z"
    },
    "id": "exclusive-rating",
    "outputId": "f553087a-ac55-41a6-a5cd-08442113070b",
    "papermill": {
     "duration": 0.224117,
     "end_time": "2021-06-10T05:37:29.571230",
     "exception": false,
     "start_time": "2021-06-10T05:37:29.347113",
     "status": "completed"
    },
    "tags": []
   },
   "outputs": [
    {
     "data": {
      "text/plain": [
       "Text(0.5, 1.0, 'Linear Regression Model')"
      ]
     },
     "execution_count": 38,
     "metadata": {},
     "output_type": "execute_result"
    },
    {
     "data": {
      "image/png": "[encoded data removed]",
      "text/plain": [
       "<Figure size 720x432 with 1 Axes>"
      ]
     },
     "metadata": {},
     "output_type": "display_data"
    }
   ],
   "source": [
    "# alpha helps to show overlapping data\n",
    "plt.scatter(predictions, y_test, alpha = 0.7, color = 'b')\n",
    "plt.xlabel('Predicted Price')\n",
    "plt.ylabel('Actual Price')\n",
    "plt.title('Linear Regression Model')"
   ]
  },
  {
   "cell_type": "code",
   "execution_count": null,
   "id": "d624074b",
   "metadata": {},
   "outputs": [],
   "source": []
  }
 ],
 "metadata": {
  "colab": {
   "provenance": []
  },
  "kernelspec": {
   "display_name": "Python 3 (ipykernel)",
   "language": "python",
   "name": "python3"
  },
  "language_info": {
   "codemirror_mode": {
    "name": "ipython",
    "version": 3
   },
   "file_extension": ".py",
   "mimetype": "text/x-python",
   "name": "python",
   "nbconvert_exporter": "python",
   "pygments_lexer": "ipython3",
   "version": "3.9.7"
  },
  "papermill": {
   "default_parameters": {},
   "duration": 16.66946,
   "end_time": "2021-06-10T05:37:31.052227",
   "environment_variables": {},
   "exception": null,
   "input_path": "__notebook__.ipynb",
   "output_path": "__notebook__.ipynb",
   "parameters": {},
   "start_time": "2021-06-10T05:37:14.382767",
   "version": "2.3.3"
  }
 },
 "nbformat": 4,
 "nbformat_minor": 5
}
